{
 "cells": [
  {
   "cell_type": "markdown",
   "id": "312c07b2",
   "metadata": {},
   "source": [
    "### **Name**: Bhavya Kakwani\n",
    "### **Roll No**: 101903365\n",
    "### **UCS757 - Time Series Prediction**"
   ]
  },
  {
   "cell_type": "markdown",
   "id": "48f6a052",
   "metadata": {},
   "source": [
    "### Importing the Libraries"
   ]
  },
  {
   "cell_type": "code",
   "execution_count": 1,
   "id": "af676823",
   "metadata": {},
   "outputs": [],
   "source": [
    "import numpy as np\n",
    "import pandas as pd\n",
    "from matplotlib import pyplot as plt\n",
    "from sklearn.ensemble import ExtraTreesRegressor\n",
    "from sklearn.ensemble import RandomForestRegressor\n",
    "import random"
   ]
  },
  {
   "cell_type": "markdown",
   "id": "be977e74",
   "metadata": {},
   "source": [
    "### Importing the Dataset"
   ]
  },
  {
   "cell_type": "code",
   "execution_count": 2,
   "id": "bedfa33c",
   "metadata": {},
   "outputs": [
    {
     "name": "stderr",
     "output_type": "stream",
     "text": [
      "c:\\Users\\bhawya kakwani\\anaconda3\\lib\\site-packages\\openpyxl\\worksheet\\_reader.py:300: UserWarning: Unknown extension is not supported and will be removed\n",
      "  warn(msg)\n",
      "c:\\Users\\bhawya kakwani\\anaconda3\\lib\\site-packages\\openpyxl\\worksheet\\_reader.py:300: UserWarning: Conditional Formatting extension is not supported and will be removed\n",
      "  warn(msg)\n"
     ]
    },
    {
     "data": {
      "text/html": [
       "<div>\n",
       "<style scoped>\n",
       "    .dataframe tbody tr th:only-of-type {\n",
       "        vertical-align: middle;\n",
       "    }\n",
       "\n",
       "    .dataframe tbody tr th {\n",
       "        vertical-align: top;\n",
       "    }\n",
       "\n",
       "    .dataframe thead th {\n",
       "        text-align: right;\n",
       "    }\n",
       "</style>\n",
       "<table border=\"1\" class=\"dataframe\">\n",
       "  <thead>\n",
       "    <tr style=\"text-align: right;\">\n",
       "      <th></th>\n",
       "      <th>Unnamed: 0</th>\n",
       "      <th>year</th>\n",
       "      <th>Para-1</th>\n",
       "      <th>Para-2</th>\n",
       "      <th>Para-3</th>\n",
       "      <th>Para-4</th>\n",
       "      <th>Para-5</th>\n",
       "      <th>Para-6</th>\n",
       "      <th>Para-7</th>\n",
       "      <th>Para-8</th>\n",
       "      <th>...</th>\n",
       "      <th>Unnamed: 27</th>\n",
       "      <th>Unnamed: 28</th>\n",
       "      <th>Unnamed: 29</th>\n",
       "      <th>Unnamed: 30</th>\n",
       "      <th>Unnamed: 31</th>\n",
       "      <th>Unnamed: 32</th>\n",
       "      <th>Unnamed: 33</th>\n",
       "      <th>Unnamed: 34</th>\n",
       "      <th>Unnamed: 35</th>\n",
       "      <th>Unnamed: 36</th>\n",
       "    </tr>\n",
       "  </thead>\n",
       "  <tbody>\n",
       "    <tr>\n",
       "      <th>0</th>\n",
       "      <td>Sec_1</td>\n",
       "      <td>1</td>\n",
       "      <td>324.0</td>\n",
       "      <td>354.5</td>\n",
       "      <td>17.0</td>\n",
       "      <td>0.0</td>\n",
       "      <td>3</td>\n",
       "      <td>117</td>\n",
       "      <td>2600</td>\n",
       "      <td>400</td>\n",
       "      <td>...</td>\n",
       "      <td>NaN</td>\n",
       "      <td>NaN</td>\n",
       "      <td>NaN</td>\n",
       "      <td>NaN</td>\n",
       "      <td>NaN</td>\n",
       "      <td>NaN</td>\n",
       "      <td>NaN</td>\n",
       "      <td>NaN</td>\n",
       "      <td>NaN</td>\n",
       "      <td>NaN</td>\n",
       "    </tr>\n",
       "    <tr>\n",
       "      <th>1</th>\n",
       "      <td>NaN</td>\n",
       "      <td>2</td>\n",
       "      <td>324.0</td>\n",
       "      <td>161.1</td>\n",
       "      <td>18.2</td>\n",
       "      <td>0.0</td>\n",
       "      <td>4</td>\n",
       "      <td>106</td>\n",
       "      <td>5950</td>\n",
       "      <td>1190</td>\n",
       "      <td>...</td>\n",
       "      <td>NaN</td>\n",
       "      <td>NaN</td>\n",
       "      <td>NaN</td>\n",
       "      <td>NaN</td>\n",
       "      <td>NaN</td>\n",
       "      <td>NaN</td>\n",
       "      <td>NaN</td>\n",
       "      <td>NaN</td>\n",
       "      <td>NaN</td>\n",
       "      <td>NaN</td>\n",
       "    </tr>\n",
       "    <tr>\n",
       "      <th>2</th>\n",
       "      <td>NaN</td>\n",
       "      <td>3</td>\n",
       "      <td>324.0</td>\n",
       "      <td>170.7</td>\n",
       "      <td>18.5</td>\n",
       "      <td>0.0</td>\n",
       "      <td>4</td>\n",
       "      <td>110</td>\n",
       "      <td>5950</td>\n",
       "      <td>1190</td>\n",
       "      <td>...</td>\n",
       "      <td>NaN</td>\n",
       "      <td>NaN</td>\n",
       "      <td>NaN</td>\n",
       "      <td>NaN</td>\n",
       "      <td>NaN</td>\n",
       "      <td>NaN</td>\n",
       "      <td>NaN</td>\n",
       "      <td>NaN</td>\n",
       "      <td>NaN</td>\n",
       "      <td>NaN</td>\n",
       "    </tr>\n",
       "    <tr>\n",
       "      <th>3</th>\n",
       "      <td>NaN</td>\n",
       "      <td>4</td>\n",
       "      <td>324.0</td>\n",
       "      <td>223.9</td>\n",
       "      <td>18.9</td>\n",
       "      <td>0.0</td>\n",
       "      <td>3</td>\n",
       "      <td>110</td>\n",
       "      <td>6150</td>\n",
       "      <td>1340</td>\n",
       "      <td>...</td>\n",
       "      <td>NaN</td>\n",
       "      <td>NaN</td>\n",
       "      <td>NaN</td>\n",
       "      <td>NaN</td>\n",
       "      <td>NaN</td>\n",
       "      <td>NaN</td>\n",
       "      <td>NaN</td>\n",
       "      <td>NaN</td>\n",
       "      <td>NaN</td>\n",
       "      <td>NaN</td>\n",
       "    </tr>\n",
       "    <tr>\n",
       "      <th>4</th>\n",
       "      <td>NaN</td>\n",
       "      <td>5</td>\n",
       "      <td>324.0</td>\n",
       "      <td>228.2</td>\n",
       "      <td>18.4</td>\n",
       "      <td>0.0</td>\n",
       "      <td>2</td>\n",
       "      <td>113</td>\n",
       "      <td>6340</td>\n",
       "      <td>1450</td>\n",
       "      <td>...</td>\n",
       "      <td>NaN</td>\n",
       "      <td>NaN</td>\n",
       "      <td>NaN</td>\n",
       "      <td>NaN</td>\n",
       "      <td>NaN</td>\n",
       "      <td>NaN</td>\n",
       "      <td>NaN</td>\n",
       "      <td>NaN</td>\n",
       "      <td>NaN</td>\n",
       "      <td>NaN</td>\n",
       "    </tr>\n",
       "  </tbody>\n",
       "</table>\n",
       "<p>5 rows × 37 columns</p>\n",
       "</div>"
      ],
      "text/plain": [
       "  Unnamed: 0  year  Para-1  Para-2  Para-3  Para-4  Para-5  Para-6  Para-7  \\\n",
       "0      Sec_1     1   324.0   354.5    17.0     0.0       3     117    2600   \n",
       "1        NaN     2   324.0   161.1    18.2     0.0       4     106    5950   \n",
       "2        NaN     3   324.0   170.7    18.5     0.0       4     110    5950   \n",
       "3        NaN     4   324.0   223.9    18.9     0.0       3     110    6150   \n",
       "4        NaN     5   324.0   228.2    18.4     0.0       2     113    6340   \n",
       "\n",
       "   Para-8  ...  Unnamed: 27  Unnamed: 28  Unnamed: 29  Unnamed: 30  \\\n",
       "0     400  ...          NaN          NaN          NaN          NaN   \n",
       "1    1190  ...          NaN          NaN          NaN          NaN   \n",
       "2    1190  ...          NaN          NaN          NaN          NaN   \n",
       "3    1340  ...          NaN          NaN          NaN          NaN   \n",
       "4    1450  ...          NaN          NaN          NaN          NaN   \n",
       "\n",
       "   Unnamed: 31  Unnamed: 32  Unnamed: 33  Unnamed: 34  Unnamed: 35  \\\n",
       "0          NaN          NaN          NaN          NaN          NaN   \n",
       "1          NaN          NaN          NaN          NaN          NaN   \n",
       "2          NaN          NaN          NaN          NaN          NaN   \n",
       "3          NaN          NaN          NaN          NaN          NaN   \n",
       "4          NaN          NaN          NaN          NaN          NaN   \n",
       "\n",
       "   Unnamed: 36  \n",
       "0          NaN  \n",
       "1          NaN  \n",
       "2          NaN  \n",
       "3          NaN  \n",
       "4          NaN  \n",
       "\n",
       "[5 rows x 37 columns]"
      ]
     },
     "execution_count": 2,
     "metadata": {},
     "output_type": "execute_result"
    }
   ],
   "source": [
    "df = pd.read_excel('DATASET.xlsx')\n",
    "df.head()"
   ]
  },
  {
   "cell_type": "code",
   "execution_count": 3,
   "id": "3a47efe8",
   "metadata": {},
   "outputs": [],
   "source": [
    "j = 0\n",
    "\n",
    "for i in range(100):\n",
    "    df.iloc[j: j + 10, 0] = df.iloc[j, 0]\n",
    "    j += 10"
   ]
  },
  {
   "cell_type": "markdown",
   "id": "88de8abe",
   "metadata": {},
   "source": [
    "### Data Pre-Processing"
   ]
  },
  {
   "cell_type": "code",
   "execution_count": 4,
   "id": "95388d90",
   "metadata": {},
   "outputs": [],
   "source": [
    "# Renaming the first column\n",
    "\n",
    "df.columns = df.columns.str.replace('Unnamed: 0', 'Group')"
   ]
  },
  {
   "cell_type": "code",
   "execution_count": 5,
   "id": "ccb70dbf",
   "metadata": {},
   "outputs": [],
   "source": [
    "# Replacing the empty cells with 0\n",
    "\n",
    "df.fillna(0, inplace=True)"
   ]
  },
  {
   "cell_type": "code",
   "execution_count": 6,
   "id": "afb71568",
   "metadata": {},
   "outputs": [
    {
     "data": {
      "text/html": [
       "<div>\n",
       "<style scoped>\n",
       "    .dataframe tbody tr th:only-of-type {\n",
       "        vertical-align: middle;\n",
       "    }\n",
       "\n",
       "    .dataframe tbody tr th {\n",
       "        vertical-align: top;\n",
       "    }\n",
       "\n",
       "    .dataframe thead th {\n",
       "        text-align: right;\n",
       "    }\n",
       "</style>\n",
       "<table border=\"1\" class=\"dataframe\">\n",
       "  <thead>\n",
       "    <tr style=\"text-align: right;\">\n",
       "      <th></th>\n",
       "      <th>Group</th>\n",
       "      <th>year</th>\n",
       "      <th>Para-1</th>\n",
       "      <th>Para-2</th>\n",
       "      <th>Para-3</th>\n",
       "      <th>Para-4</th>\n",
       "      <th>Para-5</th>\n",
       "      <th>Para-6</th>\n",
       "      <th>Para-7</th>\n",
       "      <th>Para-8</th>\n",
       "      <th>...</th>\n",
       "      <th>Unnamed: 27</th>\n",
       "      <th>Unnamed: 28</th>\n",
       "      <th>Unnamed: 29</th>\n",
       "      <th>Unnamed: 30</th>\n",
       "      <th>Unnamed: 31</th>\n",
       "      <th>Unnamed: 32</th>\n",
       "      <th>Unnamed: 33</th>\n",
       "      <th>Unnamed: 34</th>\n",
       "      <th>Unnamed: 35</th>\n",
       "      <th>Unnamed: 36</th>\n",
       "    </tr>\n",
       "  </thead>\n",
       "  <tbody>\n",
       "    <tr>\n",
       "      <th>9</th>\n",
       "      <td>Sec_1</td>\n",
       "      <td>10</td>\n",
       "      <td>324.0</td>\n",
       "      <td>53.6</td>\n",
       "      <td>19.0</td>\n",
       "      <td>0.0</td>\n",
       "      <td>2</td>\n",
       "      <td>105</td>\n",
       "      <td>7567</td>\n",
       "      <td>1885</td>\n",
       "      <td>...</td>\n",
       "      <td>0.0</td>\n",
       "      <td>0.0</td>\n",
       "      <td>0.0</td>\n",
       "      <td>0.0</td>\n",
       "      <td>0.0</td>\n",
       "      <td>0.0</td>\n",
       "      <td>0.0</td>\n",
       "      <td>0.0</td>\n",
       "      <td>0.0</td>\n",
       "      <td>0.0</td>\n",
       "    </tr>\n",
       "    <tr>\n",
       "      <th>19</th>\n",
       "      <td>Sec_2</td>\n",
       "      <td>10</td>\n",
       "      <td>327.7</td>\n",
       "      <td>62.0</td>\n",
       "      <td>22.7</td>\n",
       "      <td>0.0</td>\n",
       "      <td>2</td>\n",
       "      <td>102</td>\n",
       "      <td>30525</td>\n",
       "      <td>10234</td>\n",
       "      <td>...</td>\n",
       "      <td>0.0</td>\n",
       "      <td>0.0</td>\n",
       "      <td>0.0</td>\n",
       "      <td>0.0</td>\n",
       "      <td>0.0</td>\n",
       "      <td>0.0</td>\n",
       "      <td>0.0</td>\n",
       "      <td>0.0</td>\n",
       "      <td>0.0</td>\n",
       "      <td>0.0</td>\n",
       "    </tr>\n",
       "    <tr>\n",
       "      <th>29</th>\n",
       "      <td>Sec_3</td>\n",
       "      <td>10</td>\n",
       "      <td>487.7</td>\n",
       "      <td>93.2</td>\n",
       "      <td>22.5</td>\n",
       "      <td>0.0</td>\n",
       "      <td>4</td>\n",
       "      <td>110</td>\n",
       "      <td>2140</td>\n",
       "      <td>1270</td>\n",
       "      <td>...</td>\n",
       "      <td>0.0</td>\n",
       "      <td>0.0</td>\n",
       "      <td>0.0</td>\n",
       "      <td>0.0</td>\n",
       "      <td>0.0</td>\n",
       "      <td>0.0</td>\n",
       "      <td>0.0</td>\n",
       "      <td>0.0</td>\n",
       "      <td>0.0</td>\n",
       "      <td>0.0</td>\n",
       "    </tr>\n",
       "    <tr>\n",
       "      <th>39</th>\n",
       "      <td>Sec_4</td>\n",
       "      <td>10</td>\n",
       "      <td>543.6</td>\n",
       "      <td>93.2</td>\n",
       "      <td>22.5</td>\n",
       "      <td>0.0</td>\n",
       "      <td>4</td>\n",
       "      <td>110</td>\n",
       "      <td>2140</td>\n",
       "      <td>1270</td>\n",
       "      <td>...</td>\n",
       "      <td>0.0</td>\n",
       "      <td>0.0</td>\n",
       "      <td>0.0</td>\n",
       "      <td>0.0</td>\n",
       "      <td>0.0</td>\n",
       "      <td>0.0</td>\n",
       "      <td>0.0</td>\n",
       "      <td>0.0</td>\n",
       "      <td>0.0</td>\n",
       "      <td>0.0</td>\n",
       "    </tr>\n",
       "    <tr>\n",
       "      <th>49</th>\n",
       "      <td>Sec_5</td>\n",
       "      <td>10</td>\n",
       "      <td>434.4</td>\n",
       "      <td>149.0</td>\n",
       "      <td>11.7</td>\n",
       "      <td>72.0</td>\n",
       "      <td>3</td>\n",
       "      <td>110</td>\n",
       "      <td>13142</td>\n",
       "      <td>6225</td>\n",
       "      <td>...</td>\n",
       "      <td>0.0</td>\n",
       "      <td>0.0</td>\n",
       "      <td>0.0</td>\n",
       "      <td>0.0</td>\n",
       "      <td>0.0</td>\n",
       "      <td>0.0</td>\n",
       "      <td>0.0</td>\n",
       "      <td>0.0</td>\n",
       "      <td>0.0</td>\n",
       "      <td>0.0</td>\n",
       "    </tr>\n",
       "  </tbody>\n",
       "</table>\n",
       "<p>5 rows × 37 columns</p>\n",
       "</div>"
      ],
      "text/plain": [
       "    Group  year  Para-1  Para-2  Para-3  Para-4  Para-5  Para-6  Para-7  \\\n",
       "9   Sec_1    10   324.0    53.6    19.0     0.0       2     105    7567   \n",
       "19  Sec_2    10   327.7    62.0    22.7     0.0       2     102   30525   \n",
       "29  Sec_3    10   487.7    93.2    22.5     0.0       4     110    2140   \n",
       "39  Sec_4    10   543.6    93.2    22.5     0.0       4     110    2140   \n",
       "49  Sec_5    10   434.4   149.0    11.7    72.0       3     110   13142   \n",
       "\n",
       "    Para-8  ...  Unnamed: 27  Unnamed: 28  Unnamed: 29  Unnamed: 30  \\\n",
       "9     1885  ...          0.0          0.0          0.0          0.0   \n",
       "19   10234  ...          0.0          0.0          0.0          0.0   \n",
       "29    1270  ...          0.0          0.0          0.0          0.0   \n",
       "39    1270  ...          0.0          0.0          0.0          0.0   \n",
       "49    6225  ...          0.0          0.0          0.0          0.0   \n",
       "\n",
       "    Unnamed: 31  Unnamed: 32  Unnamed: 33  Unnamed: 34  Unnamed: 35  \\\n",
       "9           0.0          0.0          0.0          0.0          0.0   \n",
       "19          0.0          0.0          0.0          0.0          0.0   \n",
       "29          0.0          0.0          0.0          0.0          0.0   \n",
       "39          0.0          0.0          0.0          0.0          0.0   \n",
       "49          0.0          0.0          0.0          0.0          0.0   \n",
       "\n",
       "    Unnamed: 36  \n",
       "9           0.0  \n",
       "19          0.0  \n",
       "29          0.0  \n",
       "39          0.0  \n",
       "49          0.0  \n",
       "\n",
       "[5 rows x 37 columns]"
      ]
     },
     "execution_count": 6,
     "metadata": {},
     "output_type": "execute_result"
    }
   ],
   "source": [
    "# Extracting the Test Dataset\n",
    "\n",
    "test = df.loc[df['year'] == 10]\n",
    "test.columns = test.columns.str.replace('Unnamed: 0', 'Group')\n",
    "test.head()"
   ]
  },
  {
   "cell_type": "markdown",
   "id": "0fe6e50f",
   "metadata": {},
   "source": [
    "### Model Definition "
   ]
  },
  {
   "cell_type": "code",
   "execution_count": 7,
   "id": "5cd1c4f9",
   "metadata": {},
   "outputs": [],
   "source": [
    "etr = ExtraTreesRegressor(n_estimators=75,bootstrap=False, criterion='mse', max_depth=None,\n",
    "                    max_features='auto', max_leaf_nodes=1500,\n",
    "                    min_impurity_decrease=0.0, \n",
    "                    min_samples_leaf=1,\n",
    "                    min_weight_fraction_leaf=0.1,\n",
    "                    n_jobs=None, oob_score=False, random_state=123, verbose=0,\n",
    "                    warm_start=False)\n",
    "\n",
    "rf = RandomForestRegressor(n_estimators = 1200, random_state = 42)"
   ]
  },
  {
   "cell_type": "code",
   "execution_count": 8,
   "id": "94e70538",
   "metadata": {},
   "outputs": [],
   "source": [
    "predict_col_names = ['Para-9', 'Para-10', 'Para-11', 'Para-12', 'Para-13']\n",
    "result = {'Para-9': [], 'Para-10': [], 'Para-11': [], 'Para-12': [], 'Para-13': []}"
   ]
  },
  {
   "cell_type": "markdown",
   "id": "2f0b3f36",
   "metadata": {},
   "source": [
    "### Model Application"
   ]
  },
  {
   "cell_type": "code",
   "execution_count": 9,
   "id": "d1039dda",
   "metadata": {},
   "outputs": [],
   "source": [
    "def selectedModel(val):\n",
    "    RMSE = []\n",
    "    N = 0\n",
    "    index = 0\n",
    "\n",
    "    # Applying ExtraTreesRegressor\n",
    "    if(val==0):\n",
    "        for j in range(10, 15):\n",
    "            ans = 0\n",
    "            count = 0\n",
    "            for i in range(0, 1000, 10):\n",
    "                # Extracting Train and Test Data\n",
    "                xtrain = df.iloc[i:i+9, 1:10]\n",
    "                ytrain = df.iloc[i:i+9, j]\n",
    "                xtest = df.iloc[i+9, 1:10].to_numpy()\n",
    "                ytest = df.iloc[i+9, j]\n",
    "\n",
    "                # Applying Random Forest \n",
    "                etr.fit(xtrain, ytrain)\n",
    "\n",
    "                # Predicting Values\n",
    "                ypred = etr.predict(xtest.reshape(1,-1))[0]\n",
    "\n",
    "                # Appending Results\n",
    "                result[predict_col_names[index]].append(ypred)\n",
    "                ans += (ytest - ypred)**2\n",
    "                count += 1\n",
    "                N += 1\n",
    "\n",
    "            RMSE.append(ans)\n",
    "            index += 1\n",
    "            \n",
    "    # Applying Random Forest    \n",
    "    else:\n",
    "        for j in range(10, 15):\n",
    "            ans = 0\n",
    "            count = 0\n",
    "            for i in range(0, 1000, 10):\n",
    "                # Extracting Train and Test Data\n",
    "                xtrain = df.iloc[i:i+9, 1:10]\n",
    "                ytrain = df.iloc[i:i+9, j]\n",
    "                xtest = df.iloc[i+9, 1:10].to_numpy()\n",
    "                ytest = df.iloc[i+9, j]\n",
    "\n",
    "                # Applying Random Forest \n",
    "                rf.fit(xtrain, ytrain)\n",
    "\n",
    "                # Predicting Values\n",
    "                ypred = rf.predict(xtest.reshape(1,-1))[0]\n",
    "\n",
    "                # Appending Results\n",
    "                result[predict_col_names[index]].append(ypred)\n",
    "                ans += (ytest - ypred)**2\n",
    "                count += 1\n",
    "                N += 1\n",
    "\n",
    "            RMSE.append(ans)\n",
    "            index += 1\n",
    "    return (RMSE, count)"
   ]
  },
  {
   "cell_type": "code",
   "execution_count": 10,
   "id": "a846e8ad",
   "metadata": {
    "scrolled": true
   },
   "outputs": [],
   "source": [
    "# Applying Random Forest\n",
    "\n",
    "result_RMSE, result_count = selectedModel(1)"
   ]
  },
  {
   "cell_type": "code",
   "execution_count": 11,
   "id": "5d77fa1a",
   "metadata": {},
   "outputs": [
    {
     "data": {
      "text/html": [
       "<div>\n",
       "<style scoped>\n",
       "    .dataframe tbody tr th:only-of-type {\n",
       "        vertical-align: middle;\n",
       "    }\n",
       "\n",
       "    .dataframe tbody tr th {\n",
       "        vertical-align: top;\n",
       "    }\n",
       "\n",
       "    .dataframe thead th {\n",
       "        text-align: right;\n",
       "    }\n",
       "</style>\n",
       "<table border=\"1\" class=\"dataframe\">\n",
       "  <thead>\n",
       "    <tr style=\"text-align: right;\">\n",
       "      <th></th>\n",
       "      <th>Para-9</th>\n",
       "      <th>Para-10</th>\n",
       "      <th>Para-11</th>\n",
       "      <th>Para-12</th>\n",
       "      <th>Para-13</th>\n",
       "    </tr>\n",
       "  </thead>\n",
       "  <tbody>\n",
       "    <tr>\n",
       "      <th>0</th>\n",
       "      <td>2.503750</td>\n",
       "      <td>53.327250</td>\n",
       "      <td>37.335000</td>\n",
       "      <td>7.567500</td>\n",
       "      <td>1.893025</td>\n",
       "    </tr>\n",
       "    <tr>\n",
       "      <th>1</th>\n",
       "      <td>56.232250</td>\n",
       "      <td>27.868583</td>\n",
       "      <td>0.894167</td>\n",
       "      <td>7.633333</td>\n",
       "      <td>0.788426</td>\n",
       "    </tr>\n",
       "    <tr>\n",
       "      <th>2</th>\n",
       "      <td>64.419917</td>\n",
       "      <td>0.000000</td>\n",
       "      <td>0.000000</td>\n",
       "      <td>11.291667</td>\n",
       "      <td>1.361915</td>\n",
       "    </tr>\n",
       "    <tr>\n",
       "      <th>3</th>\n",
       "      <td>16.055167</td>\n",
       "      <td>53.149083</td>\n",
       "      <td>57.024167</td>\n",
       "      <td>7.058333</td>\n",
       "      <td>1.798397</td>\n",
       "    </tr>\n",
       "    <tr>\n",
       "      <th>4</th>\n",
       "      <td>0.000000</td>\n",
       "      <td>247.708250</td>\n",
       "      <td>33.837500</td>\n",
       "      <td>5.890833</td>\n",
       "      <td>1.676832</td>\n",
       "    </tr>\n",
       "  </tbody>\n",
       "</table>\n",
       "</div>"
      ],
      "text/plain": [
       "      Para-9     Para-10    Para-11    Para-12   Para-13\n",
       "0   2.503750   53.327250  37.335000   7.567500  1.893025\n",
       "1  56.232250   27.868583   0.894167   7.633333  0.788426\n",
       "2  64.419917    0.000000   0.000000  11.291667  1.361915\n",
       "3  16.055167   53.149083  57.024167   7.058333  1.798397\n",
       "4   0.000000  247.708250  33.837500   5.890833  1.676832"
      ]
     },
     "execution_count": 11,
     "metadata": {},
     "output_type": "execute_result"
    }
   ],
   "source": [
    "df_predicted = pd.DataFrame.from_dict(result)\n",
    "df_predicted.head()"
   ]
  },
  {
   "cell_type": "markdown",
   "id": "469272c7",
   "metadata": {},
   "source": [
    "### Calculating RMSE- "
   ]
  },
  {
   "cell_type": "code",
   "execution_count": 12,
   "id": "46674b57",
   "metadata": {},
   "outputs": [
    {
     "name": "stdout",
     "output_type": "stream",
     "text": [
      "68.90550052037108\n",
      "67.32236902145583\n",
      "27.854787304081583\n",
      "14.995555855310005\n",
      "0.24682578505277347\n"
     ]
    }
   ],
   "source": [
    "# RMSE for each column\n",
    "\n",
    "for i in result_RMSE:\n",
    "    print((i/result_count)**0.5)"
   ]
  },
  {
   "cell_type": "code",
   "execution_count": 13,
   "id": "eb0ca17a",
   "metadata": {},
   "outputs": [
    {
     "name": "stdout",
     "output_type": "stream",
     "text": [
      "45.34553156984147\n"
     ]
    }
   ],
   "source": [
    "# Final RMSE\n",
    "\n",
    "print((sum(result_RMSE)/500)**0.5)"
   ]
  },
  {
   "cell_type": "markdown",
   "id": "59e772d3",
   "metadata": {},
   "source": [
    "### Plotting Results"
   ]
  },
  {
   "cell_type": "code",
   "execution_count": 14,
   "id": "6a2e1608",
   "metadata": {
    "scrolled": true
   },
   "outputs": [],
   "source": [
    "# Selecting 40 random rows\n",
    "\n",
    "ind = []\n",
    "for i in range(40):\n",
    "    ind.append(random.randint(0,100))"
   ]
  },
  {
   "cell_type": "code",
   "execution_count": 15,
   "id": "36757905",
   "metadata": {
    "scrolled": false
   },
   "outputs": [
    {
     "data": {
      "image/png": "[encoded data removed]",
      "text/plain": [
       "<Figure size 432x432 with 1 Axes>"
      ]
     },
     "metadata": {
      "needs_background": "light"
     },
     "output_type": "display_data"
    },
    {
     "data": {
      "image/png": "[encoded data removed]",
      "text/plain": [
       "<Figure size 432x432 with 1 Axes>"
      ]
     },
     "metadata": {
      "needs_background": "light"
     },
     "output_type": "display_data"
    },
    {
     "data": {
      "image/png": "[encoded data removed]",
      "text/plain": [
       "<Figure size 432x432 with 1 Axes>"
      ]
     },
     "metadata": {
      "needs_background": "light"
     },
     "output_type": "display_data"
    },
    {
     "data": {
      "image/png": "[encoded data removed]",
      "text/plain": [
       "<Figure size 432x432 with 1 Axes>"
      ]
     },
     "metadata": {
      "needs_background": "light"
     },
     "output_type": "display_data"
    },
    {
     "data": {
      "image/png": "[encoded data removed]",
      "text/plain": [
       "<Figure size 432x432 with 1 Axes>"
      ]
     },
     "metadata": {
      "needs_background": "light"
     },
     "output_type": "display_data"
    }
   ],
   "source": [
    "# Scatter plot for random 40 rows out of 100 for each target column\n",
    "\n",
    "for i in range(5):\n",
    "    plt.figure(figsize=(6,6))\n",
    "    true_value = test.iloc[ind, i+10]\n",
    "    predicted_value = df_predicted.iloc[ind, i]\n",
    "    plt.scatter(true_value, predicted_value, c='crimson')\n",
    "    p1 = max(max(predicted_value), max(true_value))\n",
    "    p2 = min(min(predicted_value), min(true_value))\n",
    "    plt.plot([p1, p2], [p1, p2], 'b-')\n",
    "    plt.title(predict_col_names[i])\n",
    "    plt.xlabel('True Values', fontsize=15)\n",
    "    plt.ylabel('Predictions', fontsize=15)\n",
    "    plt.axis('equal')\n",
    "    plt.show()"
   ]
  }
 ],
 "metadata": {
  "kernelspec": {
   "display_name": "Python 3.8.5 ('base')",
   "language": "python",
   "name": "python3"
  },
  "language_info": {
   "codemirror_mode": {
    "name": "ipython",
    "version": 3
   },
   "file_extension": ".py",
   "mimetype": "text/x-python",
   "name": "python",
   "nbconvert_exporter": "python",
   "pygments_lexer": "ipython3",
   "version": "3.8.5"
  },
  "vscode": {
   "interpreter": {
    "hash": "98c3294da17195ae9729dc93406b59da2f9e4931bc4253bc2a32392f13749f20"
   }
  }
 },
 "nbformat": 4,
 "nbformat_minor": 5
}
